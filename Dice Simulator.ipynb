{
 "cells": [
  {
   "cell_type": "code",
   "execution_count": null,
   "metadata": {},
   "outputs": [],
   "source": [
    "import random\n",
    "\n",
    "\n",
    "def dice():\n",
    "    num=random.randint(1,6)\n",
    "    if(num==1):\n",
    "        print('-----------')\n",
    "        print('|         |')\n",
    "        print('|    O    |')\n",
    "        print('|         |')\n",
    "        print('-----------')\n",
    "    elif(num==2):\n",
    "        print('-----------')\n",
    "        print('| O       |')\n",
    "        print('|         |')\n",
    "        print('|       O |')\n",
    "        print('-----------')\n",
    "    elif(num==3):\n",
    "        print('------------')\n",
    "        print('| O       |')\n",
    "        print('|    O    |')\n",
    "        print('|       O |')\n",
    "        print('------------')\n",
    "    elif(num==4):\n",
    "        print('-----------')\n",
    "        print('| O     O |')\n",
    "        print('|         |')\n",
    "        print('| O     O |')\n",
    "        print('-----------')\n",
    "    elif(num==5):\n",
    "        print('-----------')\n",
    "        print('| O     O |')\n",
    "        print('|    O    |')\n",
    "        print('| O     O |')\n",
    "        print('-----------')\n",
    "    elif(num==6):\n",
    "        print('-----------')\n",
    "        print('|  O   O  |')\n",
    "        print('|  O   O  |')\n",
    "        print('|  O   O  |')\n",
    "        print('-----------')\n",
    "\n",
    "opt=\"R\"\n",
    "while(opt=='R' or opt=='r'):    \n",
    "    dice()\n",
    "    opt=\"\"\n",
    "    print(\"Roll again? 'R' or 'r' for yes else no\")\n",
    "    opt=input()"
   ]
  },
  {
   "cell_type": "code",
   "execution_count": null,
   "metadata": {},
   "outputs": [],
   "source": []
  }
 ],
 "metadata": {
  "kernelspec": {
   "display_name": "Python 3",
   "language": "python",
   "name": "python3"
  },
  "language_info": {
   "codemirror_mode": {
    "name": "ipython",
    "version": 3
   },
   "file_extension": ".py",
   "mimetype": "text/x-python",
   "name": "python",
   "nbconvert_exporter": "python",
   "pygments_lexer": "ipython3",
   "version": "3.7.3"
  }
 },
 "nbformat": 4,
 "nbformat_minor": 2
}
